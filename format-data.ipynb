{
 "cells": [
  {
   "cell_type": "code",
   "execution_count": 1,
   "id": "5e437742",
   "metadata": {},
   "outputs": [],
   "source": [
    "import pandas as pd\n",
    "import matplotlib.pyplot as plt"
   ]
  },
  {
   "cell_type": "code",
   "execution_count": 2,
   "id": "9f6d2d04",
   "metadata": {},
   "outputs": [],
   "source": [
    "df = pd.read_csv('dataset.csv')"
   ]
  },
  {
   "cell_type": "code",
   "execution_count": 3,
   "id": "c0fe2122",
   "metadata": {},
   "outputs": [],
   "source": [
    "# renamed due to incorrect spelling\n",
    "df.rename(columns={'Nacionality':'Nationality'}, inplace=True)"
   ]
  },
  {
   "cell_type": "markdown",
   "id": "e48f463f",
   "metadata": {},
   "source": [
    "The following columns i identified as being ones to include in the model so have replaced numerical values with \n",
    "the corresponding string value"
   ]
  },
  {
   "cell_type": "code",
   "execution_count": 4,
   "id": "86a9d382",
   "metadata": {},
   "outputs": [
    {
     "data": {
      "text/plain": [
       "0                                 General commerce course\n",
       "1       Secondary Education—12th Year of Schooling or ...\n",
       "2           General Course of Administration and Commerce\n",
       "3             Supplementary Accounting and Administration\n",
       "4           General Course of Administration and Commerce\n",
       "                              ...                        \n",
       "4419    Secondary Education—12th Year of Schooling or ...\n",
       "4420    Secondary Education—12th Year of Schooling or ...\n",
       "4421        General Course of Administration and Commerce\n",
       "4422        General Course of Administration and Commerce\n",
       "4423          Supplementary Accounting and Administration\n",
       "Name: Mother's qualification, Length: 4424, dtype: object"
      ]
     },
     "execution_count": 4,
     "metadata": {},
     "output_type": "execute_result"
    }
   ],
   "source": [
    "df[\"Mother's qualification\"]=df[\"Mother's qualification\"].map({1: 'Secondary Education—12th Year of Schooling or Equivalent',\n",
    " 2: 'Higher Education—bachelor’s degree', 3: 'Higher Education—degree',\n",
    " 4: 'Higher Education—master’s degree', 5: 'Higher Education—doctorate',\n",
    " 6: 'Frequency of Higher Education',\n",
    " 7: '12th Year of Schooling—not completed', \n",
    " 8: '11th Year of Schooling—not completed', 9: '7th Year (Old)',\n",
    " 10: 'Other—11th Year of Schooling', \n",
    " 11: '2nd year complementary high school course', \n",
    " 12: '10th Year of Schooling', 13: 'General commerce course',\n",
    " 14: 'Basic Education 3rd Cycle (9th/10th/11th Year) or Equivalent', \n",
    " 15: 'Complementary High School Course',\n",
    " 16: 'Technical-professional course', \n",
    " 17: 'Complementary High School Course—not concluded',\n",
    " 18: '7th year of schooling',\n",
    " 19: '2nd cycle of the general high school course',\n",
    " 20: '9th Year of Schooling—not completed',\n",
    " 21: '8th year of schooling',\n",
    " 22: 'General Course of Administration and Commerce',\n",
    " 23: 'Supplementary Accounting and Administration',\n",
    " 24: 'Unknown',\n",
    " 25: 'Cannot read or write',\n",
    " 26: 'Can read without having a 4th year of schooling',\n",
    " 27: 'Basic education 1st cycle (4th/5th year) or equivalent',\n",
    " 28: 'Basic Education 2nd Cycle (6th/7th/8th Year) or equivalent',\n",
    " 29: 'Technological specialization course',\n",
    " 30: 'Higher education—degree (1st cycle)',\n",
    " 31: 'Specialized higher studies course',\n",
    " 32: 'Professional higher technical course',\n",
    " 33: 'Higher Education—master’s degree (2nd cycle)',\n",
    " 34: 'Higher Education—doctorate (3rd cycle)'})\n",
    "df[\"Mother's qualification\"]"
   ]
  },
  {
   "cell_type": "code",
   "execution_count": 5,
   "id": "b5d1d0d7",
   "metadata": {},
   "outputs": [
    {
     "data": {
      "text/plain": [
       "0                            Other—11th Year of Schooling\n",
       "1                                 Higher Education—degree\n",
       "2       Basic education 1st cycle (4th/5th year) or eq...\n",
       "3       Basic education 1st cycle (4th/5th year) or eq...\n",
       "4       Basic Education 2nd Cycle (6th/7th/8th Year) o...\n",
       "                              ...                        \n",
       "4419    Secondary Education—12th Year of Schooling or ...\n",
       "4420    Secondary Education—12th Year of Schooling or ...\n",
       "4421    Basic education 1st cycle (4th/5th year) or eq...\n",
       "4422    Basic education 1st cycle (4th/5th year) or eq...\n",
       "4423    Basic education 1st cycle (4th/5th year) or eq...\n",
       "Name: Father's qualification, Length: 4424, dtype: object"
      ]
     },
     "execution_count": 5,
     "metadata": {},
     "output_type": "execute_result"
    }
   ],
   "source": [
    "df[\"Father's qualification\"]=df[\"Father's qualification\"].map({1: 'Secondary Education—12th Year of Schooling or Equivalent',\n",
    " 2: 'Higher Education—bachelor’s degree', 3: 'Higher Education—degree',\n",
    " 4: 'Higher Education—master’s degree', 5: 'Higher Education—doctorate',\n",
    " 6: 'Frequency of Higher Education',\n",
    " 7: '12th Year of Schooling—not completed', \n",
    " 8: '11th Year of Schooling—not completed', 9: '7th Year (Old)',\n",
    " 10: 'Other—11th Year of Schooling', \n",
    " 11: '2nd year complementary high school course', \n",
    " 12: '10th Year of Schooling', 13: 'General commerce course',\n",
    " 14: 'Basic Education 3rd Cycle (9th/10th/11th Year) or Equivalent', \n",
    " 15: 'Complementary High School Course',\n",
    " 16: 'Technical-professional course', \n",
    " 17: 'Complementary High School Course—not concluded',\n",
    " 18: '7th year of schooling',\n",
    " 19: '2nd cycle of the general high school course',\n",
    " 20: '9th Year of Schooling—not completed',\n",
    " 21: '8th year of schooling',\n",
    " 22: 'General Course of Administration and Commerce',\n",
    " 23: 'Supplementary Accounting and Administration',\n",
    " 24: 'Unknown',\n",
    " 25: 'Cannot read or write',\n",
    " 26: 'Can read without having a 4th year of schooling',\n",
    " 27: 'Basic education 1st cycle (4th/5th year) or equivalent',\n",
    " 28: 'Basic Education 2nd Cycle (6th/7th/8th Year) or equivalent',\n",
    " 29: 'Technological specialization course',\n",
    " 30: 'Higher education—degree (1st cycle)',\n",
    " 31: 'Specialized higher studies course',\n",
    " 32: 'Professional higher technical course',\n",
    " 33: 'Higher Education—master’s degree (2nd cycle)',\n",
    " 34: 'Higher Education—doctorate (3rd cycle)'})\n",
    "df[\"Father's qualification\"]"
   ]
  },
  {
   "cell_type": "code",
   "execution_count": 6,
   "id": "43a7c301",
   "metadata": {},
   "outputs": [
    {
     "data": {
      "text/plain": [
       "0           Animation and Multimedia Design\n",
       "1                                   Tourism\n",
       "2                      Communication Design\n",
       "3              Journalism and Communication\n",
       "4       Social Service (evening attendance)\n",
       "                       ...                 \n",
       "4419           Journalism and Communication\n",
       "4420           Journalism and Communication\n",
       "4421                                Nursing\n",
       "4422                             Management\n",
       "4423           Journalism and Communication\n",
       "Name: Course, Length: 4424, dtype: object"
      ]
     },
     "execution_count": 6,
     "metadata": {},
     "output_type": "execute_result"
    }
   ],
   "source": [
    "df['Course']=df['Course'].map({1: 'Biofuel Production Technologies',\n",
    " 2: 'Animation and Multimedia Design', 3: 'Social Service (evening attendance)',\n",
    " 4: 'Agronomy', 5: 'Communication Design', 6: 'Veterinary Nursing',\n",
    " 7: 'Informatics Engineering', 8: 'Equiniculture', 9: 'Management',\n",
    " 10: 'Social Service', 11: 'Tourism', 12: 'Nursing', 13: 'Oral Hygiene',\n",
    " 14: 'Advertising and Marketing Management', 15: 'Journalism and Communication',\n",
    " 16: 'Basic Education', 17: 'Management (evening attendance)'})\n",
    "df['Course']"
   ]
  },
  {
   "cell_type": "code",
   "execution_count": 7,
   "id": "5f080a29",
   "metadata": {},
   "outputs": [],
   "source": [
    "df['Marital status'] = df['Marital status'].map({1:'Single', 2: 'Married',\n",
    "                                                             3: 'Widower', 4: 'Divorced',\n",
    "                                                             5: 'Facto union', 6: 'Legally Separated'})"
   ]
  },
  {
   "cell_type": "code",
   "execution_count": 8,
   "id": "ae3643c5",
   "metadata": {},
   "outputs": [],
   "source": [
    "# Remove enrolled students. As we want to predict whether the outcome of a student's university experience is \n",
    "# graduated of dropped out, enrolled should be interpretted as undefined and can be removed.\n",
    "df=df[df['Target']!='Enrolled']"
   ]
  },
  {
   "cell_type": "code",
   "execution_count": 9,
   "id": "9ccfbb61",
   "metadata": {},
   "outputs": [],
   "source": [
    "df.to_csv('formatted_dataset.csv')"
   ]
  }
 ],
 "metadata": {
  "kernelspec": {
   "display_name": "Python 3 (ipykernel)",
   "language": "python",
   "name": "python3"
  },
  "language_info": {
   "codemirror_mode": {
    "name": "ipython",
    "version": 3
   },
   "file_extension": ".py",
   "mimetype": "text/x-python",
   "name": "python",
   "nbconvert_exporter": "python",
   "pygments_lexer": "ipython3",
   "version": "3.8.13"
  }
 },
 "nbformat": 4,
 "nbformat_minor": 5
}
